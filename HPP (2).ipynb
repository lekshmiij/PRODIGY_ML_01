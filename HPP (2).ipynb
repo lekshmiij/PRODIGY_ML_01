{
 "cells": [
  {
   "cell_type": "markdown",
   "id": "07f16c4b",
   "metadata": {},
   "source": [
    "#### importing the libraries"
   ]
  },
  {
   "cell_type": "code",
   "execution_count": 396,
   "id": "103a10b1",
   "metadata": {},
   "outputs": [],
   "source": [
    "import pandas as pd\n",
    "import numpy as np\n",
    "from sklearn.model_selection import train_test_split\n",
    "from sklearn.preprocessing import StandardScaler, PolynomialFeatures\n",
    "from sklearn.linear_model import LinearRegression, Lasso\n",
    "from sklearn.metrics import mean_squared_error, r2_score\n",
    "from sklearn.feature_selection import SelectFromModel\n"
   ]
  },
  {
   "cell_type": "markdown",
   "id": "0be90e9e",
   "metadata": {},
   "source": [
    "#### Loading the dataset"
   ]
  },
  {
   "cell_type": "code",
   "execution_count": 397,
   "id": "0e2982d8",
   "metadata": {},
   "outputs": [],
   "source": [
    "house_df = pd.read_csv('C:/Users/lekshmi/Downloads/houseprice.csv')"
   ]
  },
  {
   "cell_type": "markdown",
   "id": "ea3252a5",
   "metadata": {},
   "source": [
    "#### Data PreProcessing"
   ]
  },
  {
   "cell_type": "code",
   "execution_count": 398,
   "id": "5ea41bc3",
   "metadata": {},
   "outputs": [],
   "source": [
    "house_df.drop_duplicates(inplace=True)\n",
    "house_df.drop(columns=['Id'], inplace=True)\n"
   ]
  },
  {
   "cell_type": "code",
   "execution_count": 399,
   "id": "8ca26fc8",
   "metadata": {},
   "outputs": [],
   "source": [
    "# Handle missing values - impute with median for numerical columns and mode for categorical columns"
   ]
  },
  {
   "cell_type": "code",
   "execution_count": 400,
   "id": "802e5396",
   "metadata": {},
   "outputs": [],
   "source": [
    "num_cols = house_df.select_dtypes(include=np.number).columns.tolist()\n",
    "cat_cols = house_df.select_dtypes(include='object').columns.tolist()\n",
    "\n",
    "for col in num_cols:\n",
    "    house_df[col].fillna(house_df[col].median(), inplace=True)\n",
    "\n",
    "for col in cat_cols:\n",
    "    house_df[col].fillna(house_df[col].mode()[0], inplace=True)\n"
   ]
  },
  {
   "cell_type": "code",
   "execution_count": 401,
   "id": "e335b8a0",
   "metadata": {},
   "outputs": [],
   "source": [
    "#### Create new features"
   ]
  },
  {
   "cell_type": "code",
   "execution_count": 402,
   "id": "e1fe9e63",
   "metadata": {},
   "outputs": [],
   "source": [
    "house_df['TotalBathrooms'] = house_df['FullBath'] + house_df['HalfBath']\n",
    "\n"
   ]
  },
  {
   "cell_type": "markdown",
   "id": "0bd6a96c",
   "metadata": {},
   "source": [
    "#### Split data into features (X) and target variable (y)"
   ]
  },
  {
   "cell_type": "code",
   "execution_count": 403,
   "id": "4c46b9fb",
   "metadata": {},
   "outputs": [],
   "source": [
    "# Select features and target variable\n",
    "X = house_df[['GrLivArea', 'BedroomAbvGr', 'TotalBathrooms']]\n",
    "y = house_df['SalePrice']"
   ]
  },
  {
   "cell_type": "markdown",
   "id": "db0b3922",
   "metadata": {},
   "source": [
    "#### Split data into Training and Test data"
   ]
  },
  {
   "cell_type": "code",
   "execution_count": 404,
   "id": "42b41ccb",
   "metadata": {},
   "outputs": [],
   "source": [
    "X_train, X_test, y_train, y_test = train_test_split(X, y, test_size=0.2, random_state=100)"
   ]
  },
  {
   "cell_type": "markdown",
   "id": "fa57a6c5",
   "metadata": {},
   "source": [
    "#### Standardisation of features"
   ]
  },
  {
   "cell_type": "code",
   "execution_count": 405,
   "id": "aa05772c",
   "metadata": {},
   "outputs": [],
   "source": [
    "scaler = StandardScaler()\n",
    "X_train_scaled = scaler.fit_transform(X_train)\n",
    "X_test_scaled = scaler.transform(X_test)"
   ]
  },
  {
   "cell_type": "markdown",
   "id": "0f3076ee",
   "metadata": {},
   "source": [
    "##### Add polynomial features"
   ]
  },
  {
   "cell_type": "code",
   "execution_count": 406,
   "id": "3959461e",
   "metadata": {},
   "outputs": [],
   "source": [
    "poly = PolynomialFeatures(degree=2)\n",
    "X_train_poly = poly.fit_transform(X_train_scaled)\n",
    "X_test_poly = poly.transform(X_test_scaled)\n",
    "\n"
   ]
  },
  {
   "cell_type": "markdown",
   "id": "ce25ee43",
   "metadata": {},
   "source": [
    "##### Perform feature selection using Lasso regularization"
   ]
  },
  {
   "cell_type": "code",
   "execution_count": 407,
   "id": "c894ccf2",
   "metadata": {},
   "outputs": [],
   "source": [
    "lasso = Lasso(alpha=0.001)  # Adjust alpha as needed\n",
    "lasso.fit(X_train_poly, y_train)\n",
    "model = SelectFromModel(lasso, prefit=True)\n",
    "X_train_selected = model.transform(X_train_poly)\n",
    "X_test_selected = model.transform(X_test_poly)"
   ]
  },
  {
   "cell_type": "markdown",
   "id": "946b1cc4",
   "metadata": {},
   "source": [
    "##### Initialize and train the Linear Regression model"
   ]
  },
  {
   "cell_type": "code",
   "execution_count": 408,
   "id": "8fba164f",
   "metadata": {},
   "outputs": [
    {
     "data": {
      "text/html": [
       "<style>#sk-container-id-53 {color: black;background-color: white;}#sk-container-id-53 pre{padding: 0;}#sk-container-id-53 div.sk-toggleable {background-color: white;}#sk-container-id-53 label.sk-toggleable__label {cursor: pointer;display: block;width: 100%;margin-bottom: 0;padding: 0.3em;box-sizing: border-box;text-align: center;}#sk-container-id-53 label.sk-toggleable__label-arrow:before {content: \"▸\";float: left;margin-right: 0.25em;color: #696969;}#sk-container-id-53 label.sk-toggleable__label-arrow:hover:before {color: black;}#sk-container-id-53 div.sk-estimator:hover label.sk-toggleable__label-arrow:before {color: black;}#sk-container-id-53 div.sk-toggleable__content {max-height: 0;max-width: 0;overflow: hidden;text-align: left;background-color: #f0f8ff;}#sk-container-id-53 div.sk-toggleable__content pre {margin: 0.2em;color: black;border-radius: 0.25em;background-color: #f0f8ff;}#sk-container-id-53 input.sk-toggleable__control:checked~div.sk-toggleable__content {max-height: 200px;max-width: 100%;overflow: auto;}#sk-container-id-53 input.sk-toggleable__control:checked~label.sk-toggleable__label-arrow:before {content: \"▾\";}#sk-container-id-53 div.sk-estimator input.sk-toggleable__control:checked~label.sk-toggleable__label {background-color: #d4ebff;}#sk-container-id-53 div.sk-label input.sk-toggleable__control:checked~label.sk-toggleable__label {background-color: #d4ebff;}#sk-container-id-53 input.sk-hidden--visually {border: 0;clip: rect(1px 1px 1px 1px);clip: rect(1px, 1px, 1px, 1px);height: 1px;margin: -1px;overflow: hidden;padding: 0;position: absolute;width: 1px;}#sk-container-id-53 div.sk-estimator {font-family: monospace;background-color: #f0f8ff;border: 1px dotted black;border-radius: 0.25em;box-sizing: border-box;margin-bottom: 0.5em;}#sk-container-id-53 div.sk-estimator:hover {background-color: #d4ebff;}#sk-container-id-53 div.sk-parallel-item::after {content: \"\";width: 100%;border-bottom: 1px solid gray;flex-grow: 1;}#sk-container-id-53 div.sk-label:hover label.sk-toggleable__label {background-color: #d4ebff;}#sk-container-id-53 div.sk-serial::before {content: \"\";position: absolute;border-left: 1px solid gray;box-sizing: border-box;top: 0;bottom: 0;left: 50%;z-index: 0;}#sk-container-id-53 div.sk-serial {display: flex;flex-direction: column;align-items: center;background-color: white;padding-right: 0.2em;padding-left: 0.2em;position: relative;}#sk-container-id-53 div.sk-item {position: relative;z-index: 1;}#sk-container-id-53 div.sk-parallel {display: flex;align-items: stretch;justify-content: center;background-color: white;position: relative;}#sk-container-id-53 div.sk-item::before, #sk-container-id-53 div.sk-parallel-item::before {content: \"\";position: absolute;border-left: 1px solid gray;box-sizing: border-box;top: 0;bottom: 0;left: 50%;z-index: -1;}#sk-container-id-53 div.sk-parallel-item {display: flex;flex-direction: column;z-index: 1;position: relative;background-color: white;}#sk-container-id-53 div.sk-parallel-item:first-child::after {align-self: flex-end;width: 50%;}#sk-container-id-53 div.sk-parallel-item:last-child::after {align-self: flex-start;width: 50%;}#sk-container-id-53 div.sk-parallel-item:only-child::after {width: 0;}#sk-container-id-53 div.sk-dashed-wrapped {border: 1px dashed gray;margin: 0 0.4em 0.5em 0.4em;box-sizing: border-box;padding-bottom: 0.4em;background-color: white;}#sk-container-id-53 div.sk-label label {font-family: monospace;font-weight: bold;display: inline-block;line-height: 1.2em;}#sk-container-id-53 div.sk-label-container {text-align: center;}#sk-container-id-53 div.sk-container {/* jupyter's `normalize.less` sets `[hidden] { display: none; }` but bootstrap.min.css set `[hidden] { display: none !important; }` so we also need the `!important` here to be able to override the default hidden behavior on the sphinx rendered scikit-learn.org. See: https://github.com/scikit-learn/scikit-learn/issues/21755 */display: inline-block !important;position: relative;}#sk-container-id-53 div.sk-text-repr-fallback {display: none;}</style><div id=\"sk-container-id-53\" class=\"sk-top-container\"><div class=\"sk-text-repr-fallback\"><pre>LinearRegression()</pre><b>In a Jupyter environment, please rerun this cell to show the HTML representation or trust the notebook. <br />On GitHub, the HTML representation is unable to render, please try loading this page with nbviewer.org.</b></div><div class=\"sk-container\" hidden><div class=\"sk-item\"><div class=\"sk-estimator sk-toggleable\"><input class=\"sk-toggleable__control sk-hidden--visually\" id=\"sk-estimator-id-53\" type=\"checkbox\" checked><label for=\"sk-estimator-id-53\" class=\"sk-toggleable__label sk-toggleable__label-arrow\">LinearRegression</label><div class=\"sk-toggleable__content\"><pre>LinearRegression()</pre></div></div></div></div></div>"
      ],
      "text/plain": [
       "LinearRegression()"
      ]
     },
     "execution_count": 408,
     "metadata": {},
     "output_type": "execute_result"
    }
   ],
   "source": [
    "model = LinearRegression()\n",
    "model.fit(X_train_selected, y_train)"
   ]
  },
  {
   "cell_type": "markdown",
   "id": "53674044",
   "metadata": {},
   "source": [
    "##### Make predictions on the test set"
   ]
  },
  {
   "cell_type": "code",
   "execution_count": 409,
   "id": "3154ebb1",
   "metadata": {},
   "outputs": [],
   "source": [
    "y_pred = model.predict(X_test_selected)"
   ]
  },
  {
   "cell_type": "markdown",
   "id": "52fc7be0",
   "metadata": {},
   "source": [
    "#### Evaluating the model"
   ]
  },
  {
   "cell_type": "code",
   "execution_count": 410,
   "id": "a815f231",
   "metadata": {},
   "outputs": [
    {
     "name": "stdout",
     "output_type": "stream",
     "text": [
      "Mean Squared Error (MSE): 2070456205.391273\n",
      "Root Mean Squared Error (RMSE): 45502.26593688795\n",
      "R-squared (R2) Score: 0.6779550216322588\n"
     ]
    }
   ],
   "source": [
    "mse = mean_squared_error(y_test, y_pred)\n",
    "rmse = mse ** 0.5\n",
    "r2 = r2_score(y_test, y_pred)\n",
    "\n",
    "print(f\"Mean Squared Error (MSE): {mse}\")\n",
    "print(f\"Root Mean Squared Error (RMSE): {rmse}\")\n",
    "print(f\"R-squared (R2) Score: {r2}\")\n"
   ]
  }
 ],
 "metadata": {
  "kernelspec": {
   "display_name": "Python 3 (ipykernel)",
   "language": "python",
   "name": "python3"
  },
  "language_info": {
   "codemirror_mode": {
    "name": "ipython",
    "version": 3
   },
   "file_extension": ".py",
   "mimetype": "text/x-python",
   "name": "python",
   "nbconvert_exporter": "python",
   "pygments_lexer": "ipython3",
   "version": "3.11.3"
  }
 },
 "nbformat": 4,
 "nbformat_minor": 5
}
